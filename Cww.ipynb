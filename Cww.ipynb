{
  "nbformat": 4,
  "nbformat_minor": 0,
  "metadata": {
    "colab": {
      "provenance": [],
      "authorship_tag": "ABX9TyPt9c2uPd8Qj8Qm2I5CSSfo",
      "include_colab_link": true
    },
    "kernelspec": {
      "name": "python3",
      "display_name": "Python 3"
    },
    "language_info": {
      "name": "python"
    }
  },
  "cells": [
    {
      "cell_type": "markdown",
      "metadata": {
        "id": "view-in-github",
        "colab_type": "text"
      },
      "source": [
        "<a href=\"https://colab.research.google.com/github/Phenoley/cwwtech/blob/main/Cww.ipynb\" target=\"_parent\"><img src=\"https://colab.research.google.com/assets/colab-badge.svg\" alt=\"Open In Colab\"/></a>"
      ]
    },
    {
      "cell_type": "code",
      "execution_count": null,
      "metadata": {
        "colab": {
          "base_uri": "https://localhost:8080/"
        },
        "id": "DyNWIsknLC8O",
        "outputId": "0834f349-ada7-4d0d-c871-fc9f42fcb136"
      },
      "outputs": [
        {
          "output_type": "stream",
          "name": "stdout",
          "text": [
            "Monday's todos:\n",
            "['Wake up at 6:00 AM', 'Exercise', 'Breakfast']\n",
            "\n",
            "Adding new todo for Tuesday:\n",
            "Tuesday's updated todos:\n",
            "['Team meeting', 'Project discussion', 'Lunch with John', 'New task']\n",
            "\n",
            "All todos:\n",
            "**Monday**\n",
            "- Wake up at 6:00 AM\n",
            "- Exercise\n",
            "- Breakfast\n",
            "\n",
            "**Tuesday**\n",
            "- Team meeting\n",
            "- Project discussion\n",
            "- Lunch with John\n",
            "- New task\n",
            "\n",
            "**Wednesday**\n",
            "- Client call\n",
            "- Report submission\n",
            "- Dinner with family\n",
            "\n",
            "**Thursday**\n",
            "- Training session\n",
            "- Code review\n",
            "- Walk in the park\n",
            "\n",
            "**Friday**\n",
            "- Project demo\n",
            "- Wrap-up tasks\n",
            "- Weekend planning\n",
            "\n",
            "My name is Folarin\n",
            "My Age is 22\n",
            "My Skills are:\n",
            "- Python\n",
            "- Java\n",
            "- JavaScript\n",
            "[2, 4, 6, 8, 10, 12, 14, 16, 18, 20, 22, 24, 26, 28, 30, 32, 34, 36, 38, 40, 42, 44, 46, 48, 50, 52, 54, 56, 58, 60, 62, 64, 66, 68, 70, 72, 74, 76, 78, 80, 82, 84, 86, 88, 90, 92, 94, 96, 98, 100]\n"
          ]
        }
      ],
      "source": [
        "# Create a todo list using a list of tuples\n",
        "todo_list = [\n",
        "    (\"Monday\", [\"Wake up at 6:00 AM\", \"Exercise\", \"Breakfast\"]),\n",
        "    (\"Tuesday\", [\"Team meeting\", \"Project discussion\", \"Lunch with John\"]),\n",
        "    (\"Wednesday\", [\"Client call\", \"Report submission\", \"Dinner with family\"]),\n",
        "    (\"Thursday\", [\"Training session\", \"Code review\", \"Walk in the park\"]),\n",
        "    (\"Friday\", [\"Project demo\", \"Wrap-up tasks\", \"Weekend planning\"]),\n",
        "]\n",
        "\n",
        "# Function to get todos for a particular day\n",
        "def get_daily_todos(day):\n",
        "    for i, (day_name, todos) in enumerate(todo_list):\n",
        "        if day_name == day:\n",
        "            return todos\n",
        "    return \"Day not found\"\n",
        "\n",
        "# Function to add new todo for a particular day\n",
        "def add_todo(day, new_todo):\n",
        "    for i, (day_name, todos) in enumerate(todo_list):\n",
        "        if day_name == day:\n",
        "            todo_list[i] = (day_name, todos + [new_todo])\n",
        "            return\n",
        "    print(\"Day not found\")\n",
        "\n",
        "# Function to show all todos\n",
        "def show_all_todos():\n",
        "    for day, todos in todo_list:\n",
        "        print(f\"**{day}**\")\n",
        "        for todo in todos:\n",
        "            print(f\"- {todo}\")\n",
        "        print()\n",
        "\n",
        "# Test the functions\n",
        "print(\"Monday's todos:\")\n",
        "print(get_daily_todos(\"Monday\"))\n",
        "\n",
        "print(\"\\nAdding new todo for Tuesday:\")\n",
        "add_todo(\"Tuesday\", \"New task\")\n",
        "print(\"Tuesday's updated todos:\")\n",
        "print(get_daily_todos(\"Tuesday\"))\n",
        "\n",
        "print(\"\\nAll todos:\")\n",
        "show_all_todos()\n",
        "\n",
        "\n",
        "# Create a dictionary with bio info\n",
        "bio_dict = {\n",
        "    \"name\": \"Folarin\",\n",
        "    \"age\": 22,\n",
        "    \"skills\": [\"Python\", \"Java\", \"JavaScript\"],\n",
        "}\n",
        "\n",
        "\n",
        "# Print bio info\n",
        "print(f\"My name is {bio_dict['name']}\")\n",
        "print(f\"My Age is {bio_dict['age']}\")\n",
        "\n",
        "print(\"My Skills are:\")\n",
        "for skill in bio_dict[\"skills\"]:\n",
        "    print(f\"- {skill}\")\n",
        "\n",
        "\n",
        "# Use lambda expression to double numbers in a list\n",
        "numbers = list(range(1, 51))\n",
        "doubled_numbers = list(map(lambda x: x * 2, numbers))\n",
        "\n",
        "print(doubled_numbers)\n",
        "\n",
        "\n"
      ]
    }
  ]
}